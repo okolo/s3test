{
 "cells": [
  {
   "cell_type": "code",
   "execution_count": 1,
   "id": "137f184e-1bfd-429b-a48e-7938826c1aa9",
   "metadata": {
    "editable": true,
    "slideshow": {
     "slide_type": ""
    },
    "tags": [
     "parameters"
    ]
   },
   "outputs": [],
   "source": [
    "# oda:usesRequiredResource oda:CRBeamS3 .\n",
    "# oda:CRBeamS3 a oda:S3 .\n",
    "# oda:CRBeamS3 oda:resourceBindingEnvVarName \"CRBEAM_S3_CREDENTIALS\" .\n",
    "\n",
    "src_name='NGC 1365' #http://odahub.io/ontology#AstrophysicalObject"
   ]
  },
  {
   "cell_type": "code",
   "execution_count": 2,
   "id": "2b606a69-2ed3-40b3-9f03-983cd03cb113",
   "metadata": {},
   "outputs": [],
   "source": [
    "import os\n",
    "env_val = os.getenv('CRBEAM_S3_CREDENTIALS')"
   ]
  },
  {
   "cell_type": "code",
   "execution_count": 3,
   "id": "1c8f0c5e-0f5c-4aad-afd9-536806f979ed",
   "metadata": {
    "editable": true,
    "slideshow": {
     "slide_type": ""
    },
    "tags": [
     "outputs"
    ]
   },
   "outputs": [],
   "source": [
    "env_val"
   ]
  }
 ],
 "metadata": {
  "kernelspec": {
   "display_name": "Python 3 (ipykernel)",
   "language": "python",
   "name": "python3"
  },
  "language_info": {
   "codemirror_mode": {
    "name": "ipython",
    "version": 3
   },
   "file_extension": ".py",
   "mimetype": "text/x-python",
   "name": "python",
   "nbconvert_exporter": "python",
   "pygments_lexer": "ipython3",
   "version": "3.8.17"
  }
 },
 "nbformat": 4,
 "nbformat_minor": 5
}
